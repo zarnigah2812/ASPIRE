
In [1]: from fieldvis import et_reader, field_dp, field_plot
   ...: import h5py
   ...: import numpy as np
   ...: import matplotlib.pyplot as plt
   ...: import pyvista as pv
   ...: 
   ...: import dill
   ...: dill.settings['recurse'] = True

In [3]: data_path =r"/home/kayani/extracted"

In [4]: save_path =r"/home/kayani/extracted"

In [5]: it_list, files_B = field_dp.find_iterations('Bvec', data_path, return_files=True)

   ...:     import re
   ...: 
   ...:     # List all files in the directory
   ...:     files = os.listdir(path_to_files)
   ...:     print("Files in directory:", files)
   ...: 
   ...:     # Filter files that contain the variable_name
   ...:     files = [file for file in files if variable_name in file]
   ...:     print("Filtered files:", files)
   ...: 
   ...:     # Convert list of files to a single string
   ...:     files_str = ' '.join(files)
   ...:     print("Files string:", files_str)
   ...: 
   ...:     # Define a regex pattern to match the file names
   ...:     pattern = re.compile(rf'({variable_name}\[\d+\].xyz_it=(\d+).h5)')
   ...: 
   ...:     # Find all matches
   ...:     output = pattern.findall(files_str)
   ...:     print("Regex matches:", output)
   ...: 
   ...:     if not output:
   ...:         raise ValueError("No matches found")
   ...: 
   ...:     # Unpack the matches
   ...:     files, it_list = zip(*output)
   ...: 
   ...:     # Create full paths to files
   ...:     files = [os.path.join(path_to_files, file) for file in files]
   ...: 
   ...:     if return_files:
   ...:         return it_list, files
   ...:     return it_list
   ...: # Test the function
   ...: it_list, files_B = find_iterations('Bvec', data_path, return_files=True)
   ...: print('Iterations:', it_list, '\nFiles:', files_B)
Files in directory: ['Bvec[2].xyz_it=36352.h5', 'bcom_sq.xyz_it=36352.h5', 'gxz.xyz_it=36352.h5', 'Y_e.xyz_it=36352.h5', 'Bvec[0].xyz_it=36352.h5', 'vel[2].xyz_it=36352.h5', 'alp.xyz_it=36352.h5', 'gyz.xyz_it=36352.h5', 'gxy.xyz_it=36352.h5', 'eps.xyz_it=36352.h5', 'gyy.xyz_it=36352.h5', 'press.xyz_it=36352.h5', 'gxx.xyz_it=36352.h5', 'betax.xyz_it=36352.h5', 'betay.xyz_it=36352.h5', 'vel[1].xyz_it=36352.h5', 'rho.xyz_it=36352.h5', 'vel[0].xyz_it=36352.h5', 'gzz.xyz_it=36352.h5', 'Bvec[1].xyz_it=36352.h5', 'betaz.xyz_it=36352.h5']
Filtered files: ['Bvec[2].xyz_it=36352.h5', 'Bvec[0].xyz_it=36352.h5', 'Bvec[1].xyz_it=36352.h5']
Files string: Bvec[2].xyz_it=36352.h5 Bvec[0].xyz_it=36352.h5 Bvec[1].xyz_it=36352.h5
Regex matches: [('Bvec[2].xyz_it=36352.h5', '36352'), ('Bvec[0].xyz_it=36352.h5', '36352'), ('Bvec[1].xyz_it=36352.h5', '36352')]
Iterations: ('36352', '36352', '36352') 
Files: ['/home/kayani/extracted/Bvec[2].xyz_it=36352.h5', '/home/kayani/extracted/Bvec[0].xyz_it=36352.h5', '/home/kayani/extracted/Bvec[1].xyz_it=36352.h5']

In [7]: print('Iterations:', it_list, '\n')
   ...: print('Magnetic field files:', files_B, '\n')
Iterations: ('36352', '36352', '36352') 

Magnetic field files: ['/home/kayani/extracted/Bvec[2].xyz_it=36352.h5', '/home/kayani/extracted/Bvec[0].xyz_it=36352.h5', '/home/kayani/extracted/Bvec[1].xyz_it=36352.h5'] 


In [8]: rl = 1
   ...: 
   ...: def data_reader_B(index):
   ...:     return et_reader.ET_to_numpy(rl, files_B[index*3:(index*3 + 3)])
   ...: ""
Out[8]: ''

In [9]: it_list, files_B = field_dp.find_iterations('Bvec', data_path, return_files=True)

In [10]: print('Iterations:', it_list, '\n')
    ...: print('Magnetic field files:', files_B, '\n')
Iterations: [36352] 

Magnetic field files: ['/home/kayani/extracted/Bvec[0].xyz_it=36352.h5', '/home/kayani/extracted/Bvec[1].xyz_it=36352.h5', '/home/kayani/extracted/Bvec[2].xyz_it=36352.h5'] 


In [11]: rl = 1
    ...: 
    ...: def data_reader_B(index):
    ...:     return et_reader.ET_to_numpy(rl, files_B[index*3:(index*3 + 3)])
    ...: ""
Out[11]: ''

In [12]: Bvec_data = data_reader_B(0)
    ...: print('Shape of the Bvec reader output:', np.shape(Bvec_data))
    ...: print('Type of a component of the vector data:', type(Bvec_data[0]))
Shape of the Bvec reader output: (3, 241, 241, 121)
Type of a component of the vector data: <class 'numpy.ndarray'>

In [13]: file = h5py.File(files_B[2])
    ...: var_name, it, tl, rl_list, c_list = et_reader.ET_file_parser(file)
    ...: delta, ghostzones, dimensions, min_coords, max_coords = et_reader.ET_get_grid_info(var_name, it, tl, rl, c_list, file)
    ...: 
    ...: print('Variable name:', var_name)
    ...: print('Iteration:', it)
    ...: print('Reference levels:', rl_list)
    ...: print('Grid spacings:', delta)
    ...: print('Ghostzones:', ghostzones)
    ...: print('x-range:', round(min_coords[0], 2), round(max_coords[0], 2))
    ...: print('y-range:', round(min_coords[1], 2), round(max_coords[1], 2))
    ...: print('z-range:', round(min_coords[2], 2), round(max_coords[2], 2))
Variable name: HYDROBASE::Bvec[2]
Iteration: 36352
Reference levels: [0, 1, 2, 3, 4]
Grid spacings: [1.2 1.2 1.2]
Ghostzones: [4 4 4]
x-range: -144.0 145.2
y-range: -144.0 145.2
z-range: 0.0 145.2

In [14]: linear = lambda x, a, b: a*x + b
    ...: 
    ...: opacity = linear(np.arange(0, 256, 1), 0.06, 0.015*256)
    ...: 
    ...: # Filter out all data outside the data range provided
    ...: opacity[0] = 0
    ...: 
    ...: # Camera position, focal point and up vector
    ...: cpos = [(245.23096320064798, 840.741228880382, -315.03912073198734),
    ...: (-6.211109756869366, 11.909251907227983, 35.24184501603246),
    ...: (-0.11027435252567375, -0.358338604566275, -0.9270560995174663)]
    ...: 
    ...: plt.plot(opacity/256);
    ...: plt.ylabel('Transparency');
    ...: plt.xlabel('Color number');

    ...:     'up': cpos[2],
    ...:     'background_color': 'k',
    ...:     'off_screen': True,
    ...:     'screenshot': 'test.png',
    ...:     'show_grid': False,
    ...:     'return_cpos': True,
    ...:     'notebook': True
    ...: }
    ...: 
    ...: bernoulli_kwargs = {
    ...:     'spacing': delta,
    ...:     'origin': [-138, -138, 0.0],
    ...:     'cmap': 'Reds',
    ...:     'log_scale': False,
    ...:     'clim': [1.02, 3],
    ...:     'mapper': 'gpu',
    ...:     'scalar_bar_args': {'use_opacity': False, 'color':'w'},
    ...:     'opacity': opacity,
    ...:     'n_colors': 256,
    ...:     'shade': True,
    ...:     'name': 'Bernoulli criterion',
    ...:     'diffuse': 1,
    ...:     'mirror_z': True
    ...: }
    ...: 
    ...: field_line_kwargs = {
    ...:     'spacing': delta,
    ...:     'origin': [-138, -138, 0.0],
    ...:     'source_center': [0, 0, 0],
    ...:     'n_points': 30,
    ...:     'radius': 0.7,
    ...:     'source_radius': 9,
    ...:     'color': 'w',
    ...:     'mirror_z': False,
    ...:     'return_source': True
    ...: }

